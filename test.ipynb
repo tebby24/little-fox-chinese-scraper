{
 "cells": [
  {
   "cell_type": "code",
   "execution_count": 2,
   "metadata": {},
   "outputs": [],
   "source": [
    "import requests\n",
    "from bs4 import BeautifulSoup"
   ]
  },
  {
   "cell_type": "code",
   "execution_count": 3,
   "metadata": {},
   "outputs": [],
   "source": [
    "url = 'https://chinese.littlefox.com/en/story/contents_list/DP000733'"
   ]
  },
  {
   "cell_type": "code",
   "execution_count": 4,
   "metadata": {},
   "outputs": [],
   "source": [
    "def build_subtitle_url(episode_id):\n",
    "    return f'https://cdn.littlefox.co.kr/cn/captionxml/{episode_id}.xml'"
   ]
  },
  {
   "cell_type": "code",
   "execution_count": null,
   "metadata": {},
   "outputs": [],
   "source": [
    "response = requests.get(url)\n",
    "html_content = response.text\n",
    "soup = BeautifulSoup(html_content, 'html.parser')\n",
    "items = soup.find_all('div', class_='item')\n",
    "ids = []\n",
    "for item in items:\n",
    "    input_element = item.find('input', class_='LF_CHK s2 contentsCheck')\n",
    "    if input_element:\n",
    "        value = input_element.get('value')\n",
    "        ids.append(value)\n",
    "ids"
   ]
  },
  {
   "cell_type": "code",
   "execution_count": 10,
   "metadata": {},
   "outputs": [
    {
     "data": {
      "text/plain": [
       "['https://cdn.littlefox.co.kr/cn/captionxml/C0001143.xml',\n",
       " 'https://cdn.littlefox.co.kr/cn/captionxml/C0001152.xml',\n",
       " 'https://cdn.littlefox.co.kr/cn/captionxml/C0001163.xml',\n",
       " 'https://cdn.littlefox.co.kr/cn/captionxml/C0001172.xml',\n",
       " 'https://cdn.littlefox.co.kr/cn/captionxml/C0001178.xml',\n",
       " 'https://cdn.littlefox.co.kr/cn/captionxml/C0001189.xml',\n",
       " 'https://cdn.littlefox.co.kr/cn/captionxml/C0001196.xml',\n",
       " 'https://cdn.littlefox.co.kr/cn/captionxml/C0001200.xml',\n",
       " 'https://cdn.littlefox.co.kr/cn/captionxml/C0001207.xml',\n",
       " 'https://cdn.littlefox.co.kr/cn/captionxml/C0001212.xml',\n",
       " 'https://cdn.littlefox.co.kr/cn/captionxml/C0001217.xml',\n",
       " 'https://cdn.littlefox.co.kr/cn/captionxml/C0001224.xml',\n",
       " 'https://cdn.littlefox.co.kr/cn/captionxml/C0001229.xml',\n",
       " 'https://cdn.littlefox.co.kr/cn/captionxml/C0001233.xml',\n",
       " 'https://cdn.littlefox.co.kr/cn/captionxml/C0001239.xml',\n",
       " 'https://cdn.littlefox.co.kr/cn/captionxml/C0001244.xml',\n",
       " 'https://cdn.littlefox.co.kr/cn/captionxml/C0001249.xml',\n",
       " 'https://cdn.littlefox.co.kr/cn/captionxml/C0001254.xml',\n",
       " 'https://cdn.littlefox.co.kr/cn/captionxml/C0001259.xml',\n",
       " 'https://cdn.littlefox.co.kr/cn/captionxml/C0001265.xml']"
      ]
     },
     "execution_count": 10,
     "metadata": {},
     "output_type": "execute_result"
    }
   ],
   "source": [
    "xml_urls = [build_subtitle_url(id) for id in ids]\n",
    "xml_urls"
   ]
  }
 ],
 "metadata": {
  "kernelspec": {
   "display_name": ".venv",
   "language": "python",
   "name": "python3"
  },
  "language_info": {
   "codemirror_mode": {
    "name": "ipython",
    "version": 3
   },
   "file_extension": ".py",
   "mimetype": "text/x-python",
   "name": "python",
   "nbconvert_exporter": "python",
   "pygments_lexer": "ipython3",
   "version": "3.12.4"
  }
 },
 "nbformat": 4,
 "nbformat_minor": 2
}
