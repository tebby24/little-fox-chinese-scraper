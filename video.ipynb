{
 "cells": [
  {
   "cell_type": "code",
   "execution_count": 49,
   "metadata": {},
   "outputs": [],
   "source": [
    "from dotenv import load_dotenv\n",
    "import os\n",
    "\n",
    "load_dotenv()\n",
    "\n",
    "username = os.getenv('LFC_USERNAME')\n",
    "password = os.getenv('LFC_PASSWORD')"
   ]
  },
  {
   "cell_type": "code",
   "execution_count": 55,
   "metadata": {},
   "outputs": [
    {
     "name": "stdout",
     "output_type": "stream",
     "text": [
      "Found stream URL: /contents_5/cn/hls/1080/2f09edcb8b/1600669648f6a4f71e72dfe084f2d4b5bf96963e02/stream.m3u8?_=1600669650\n",
      "Found stream URL: /contents_5/cn/hls/1080/725902eac4/16006699598cbe9ce23f42628c98f80fa0fac8b19a/stream.m3u8?_=1600669960\n"
     ]
    }
   ],
   "source": [
    "from selenium import webdriver \n",
    "from selenium.webdriver.common.by import By\n",
    "from selenium.webdriver.support.ui import WebDriverWait\n",
    "from selenium.webdriver.support import expected_conditions as EC\n",
    "from selenium.common.exceptions import TimeoutException, StaleElementReferenceException\n",
    "import re\n",
    "import time\n",
    "\n",
    "driver = webdriver.Chrome()\n",
    "\n",
    "driver.get(\"https://chinese.littlefox.com/en\")\n",
    "\n",
    "driver.find_element(By.NAME, 'loginid').send_keys(username)\n",
    "driver.find_element(By.NAME, 'loginpw').send_keys(password)\n",
    "driver.find_element(By.CLASS_NAME, 'btn_login').click()\n",
    "time.sleep(3)\n",
    "\n",
    "content_list_url = \"https://chinese.littlefox.com/en/story/contents_list/DP000798\"\n",
    "driver.get(content_list_url)\n",
    "\n",
    "# Wait for the parent element to be present\n",
    "list_wrap = WebDriverWait(driver, 10).until(\n",
    "    EC.presence_of_element_located((By.CLASS_NAME, 'list_wrap'))\n",
    ")\n",
    "\n",
    "# Find the thumb_wrap elements within the list_wrap\n",
    "thumb_wraps = list_wrap.find_elements(By.CLASS_NAME, 'thumb_wrap')\n",
    "\n",
    "# Loop through each element and click on it\n",
    "for i in range(len(thumb_wraps)):\n",
    "    try:\n",
    "        # Refetch the thumb_wrap elements\n",
    "        list_wrap = WebDriverWait(driver, 10).until(\n",
    "            EC.presence_of_element_located((By.CLASS_NAME, 'list_wrap'))\n",
    "        )\n",
    "        thumb_wraps = list_wrap.find_elements(By.CLASS_NAME, 'thumb_wrap')\n",
    "        \n",
    "        # Wait for the specific element to be clickable\n",
    "        WebDriverWait(driver, 10).until(\n",
    "            EC.element_to_be_clickable(thumb_wraps[i])\n",
    "        ).click()\n",
    "        time.sleep(5)  # Adjust the sleep time as needed to allow for page load or other actions\n",
    "        driver.get(\"https://chinese.littlefox.com/en/player_h5/view\")\n",
    "        \n",
    "        # Extract the page source\n",
    "        page_source = driver.page_source\n",
    "        \n",
    "        # Use regex to find the stream.m3u8 URL\n",
    "        match = re.search(r'video_url\":\"(\\\\/contents_5\\\\/cn\\\\/hls\\\\/1080\\\\/[^\"]+\\\\/stream\\.m3u8\\?_[^\"]+)\"', page_source)\n",
    "        if match:\n",
    "            stream_url = match.group(1).replace('\\\\/', '/')\n",
    "            print(f\"Found stream URL: {stream_url}\")\n",
    "        else:\n",
    "            print(\"Stream URL not found\")\n",
    "        \n",
    "        # Navigate back to the content list page\n",
    "        driver.get(content_list_url)\n",
    "        time.sleep(3)  # Adjust the sleep time as needed to allow for page load or other actions\n",
    "    except StaleElementReferenceException:\n",
    "        print(\"StaleElementReferenceException encountered. Refetching elements.\")\n",
    "        driver.get(content_list_url)\n",
    "        time.sleep(3)\n",
    "\n",
    "driver.quit()"
   ]
  }
 ],
 "metadata": {
  "kernelspec": {
   "display_name": ".venv",
   "language": "python",
   "name": "python3"
  },
  "language_info": {
   "codemirror_mode": {
    "name": "ipython",
    "version": 3
   },
   "file_extension": ".py",
   "mimetype": "text/x-python",
   "name": "python",
   "nbconvert_exporter": "python",
   "pygments_lexer": "ipython3",
   "version": "3.12.5"
  }
 },
 "nbformat": 4,
 "nbformat_minor": 2
}
